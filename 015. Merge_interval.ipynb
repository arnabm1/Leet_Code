{
 "cells": [
  {
   "cell_type": "code",
   "execution_count": 2,
   "metadata": {},
   "outputs": [
    {
     "name": "stdout",
     "output_type": "stream",
     "text": [
      "[[1, 5]]\n"
     ]
    }
   ],
   "source": [
    "\"\"\"\n",
    "56. Merge Intervals\n",
    "\n",
    "Given an array of intervals where intervals[i] = [starti, endi], merge all overlapping intervals, \n",
    "and return an array of the non-overlapping intervals that cover all the intervals in the input.\n",
    "\n",
    "Example 1:\n",
    "\n",
    "Input: intervals = [[1,3],[2,6],[8,10],[15,18]]\n",
    "Output: [[1,6],[8,10],[15,18]]\n",
    "Explanation: Since intervals [1,3] and [2,6] overlap, merge them into [1,6].\n",
    "\n",
    "\n",
    "Example 2:\n",
    "\n",
    "Input: intervals = [[1,4],[4,5]]\n",
    "Output: [[1,5]]\n",
    "Explanation: Intervals [1,4] and [4,5] are considered overlapping.\n",
    "\n",
    "\"\"\"\n",
    "\n",
    "class Solution:\n",
    "    def merge(self, intervals):\n",
    "        intervals.sort(key = lambda i:i[0]) # sort the interval list by the first value of the interval pair\n",
    "        output = [intervals[0]]\n",
    "\n",
    "        for start, end in intervals[1:]:\n",
    "            last_end = output[-1][1]\n",
    "            # overlapping case, output's last value is smaller than start value of current pair\n",
    "            if start <= last_end:\n",
    "                output[-1][1] = max(last_end, end)\n",
    "            else: output.append([start, end]) # non-overlapping case\n",
    "        return output\n",
    "    \n",
    "# intervals = [[1,3],[2,6],[8,10],[15,18]]\n",
    "intervals = [[1,4],[4,5]]\n",
    "\n",
    "print(Solution().merge(intervals))\n",
    "        "
   ]
  }
 ],
 "metadata": {
  "kernelspec": {
   "display_name": "Python 3",
   "language": "python",
   "name": "python3"
  },
  "language_info": {
   "codemirror_mode": {
    "name": "ipython",
    "version": 3
   },
   "file_extension": ".py",
   "mimetype": "text/x-python",
   "name": "python",
   "nbconvert_exporter": "python",
   "pygments_lexer": "ipython3",
   "version": "3.8.10"
  }
 },
 "nbformat": 4,
 "nbformat_minor": 2
}
