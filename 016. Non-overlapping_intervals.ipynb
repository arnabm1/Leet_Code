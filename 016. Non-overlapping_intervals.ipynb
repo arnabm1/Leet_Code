{
 "cells": [
  {
   "cell_type": "code",
   "execution_count": 3,
   "metadata": {},
   "outputs": [
    {
     "name": "stdout",
     "output_type": "stream",
     "text": [
      "2\n"
     ]
    }
   ],
   "source": [
    "\"\"\"\n",
    "435. Non-overlapping Intervals\n",
    "\n",
    "Given an array of intervals intervals where intervals[i] = [starti, endi], \n",
    "return the minimum number of intervals you need to remove to make the rest of the intervals non-overlapping.\n",
    "\n",
    "Example 1:\n",
    "\n",
    "Input: intervals = [[1,2],[2,3],[3,4],[1,3]]\n",
    "Output: 1\n",
    "Explanation: [1,3] can be removed and the rest of the intervals are non-overlapping.\n",
    "\n",
    "Example 2:\n",
    "\n",
    "Input: intervals = [[1,2],[1,2],[1,2]]\n",
    "Output: 2\n",
    "Explanation: You need to remove two [1,2] to make the rest of the intervals non-overlapping.\n",
    "\n",
    "Example 3:\n",
    "\n",
    "Input: intervals = [[1,2],[2,3]]\n",
    "Output: 0\n",
    "Explanation: You don't need to remove any of the intervals since they're already non-overlapping\n",
    "\"\"\"\n",
    "\n",
    "class Solution:\n",
    "    def eraseOverlapIntervals(self, intervals):\n",
    "        intervals.sort(key = lambda i : i[0]) # sort using start value of the intervals\n",
    "        count = 0\n",
    "        prevEnd = intervals[0][1]\n",
    "\n",
    "        for start, end in intervals[1:]:\n",
    "            if start >= prevEnd: # non-overlapping case\n",
    "                prevEnd = end\n",
    "            else: # overlapping case\n",
    "                count += 1\n",
    "                prevEnd = min(end, prevEnd) # eleminate the interval with larger end value\n",
    "        return count\n",
    "    \n",
    "intervals = [[1,2],[1,2],[1,2]]\n",
    "# intervals = [[1,2],[2,3],[3,4],[1,3]]   \n",
    "# intervals = [[1,2],[2,3]]     \n",
    "print(Solution().eraseOverlapIntervals(intervals))\n"
   ]
  }
 ],
 "metadata": {
  "kernelspec": {
   "display_name": "Python 3",
   "language": "python",
   "name": "python3"
  },
  "language_info": {
   "codemirror_mode": {
    "name": "ipython",
    "version": 3
   },
   "file_extension": ".py",
   "mimetype": "text/x-python",
   "name": "python",
   "nbconvert_exporter": "python",
   "pygments_lexer": "ipython3",
   "version": "3.8.10"
  }
 },
 "nbformat": 4,
 "nbformat_minor": 2
}
