{
 "cells": [
  {
   "cell_type": "code",
   "execution_count": 2,
   "id": "f841e528",
   "metadata": {},
   "outputs": [
    {
     "name": "stdout",
     "output_type": "stream",
     "text": [
      "[0, 1]\n"
     ]
    }
   ],
   "source": [
    "\"\"\"\n",
    "1. Two Sum\n",
    "\n",
    "Given an array of integers nums and an integer target, return indices of the two numbers such that they add up to target.\n",
    "\n",
    "You may assume that each input would have exactly one solution, and you may not use the same element twice.\n",
    "\n",
    "You can return the answer in any order.\n",
    "\n",
    "Example 1:\n",
    "\n",
    "Input: nums = [2,7,11,15], target = 9\n",
    "Output: [0,1]\n",
    "Explanation: Because nums[0] + nums[1] == 9, we return [0, 1].\n",
    "Example 2:\n",
    "\n",
    "Input: nums = [3,2,4], target = 6\n",
    "Output: [1,2]\n",
    "Example 3:\n",
    "\n",
    "Input: nums = [3,3], target = 6\n",
    "Output: [0,1]\n",
    "\n",
    "Follow-up: Can you come up with an algorithm that is less than O(n2) time complexity?\n",
    "\n",
    "\"\"\"\n",
    "class Solution:\n",
    "    def twoSum(self, nums, target):\n",
    "        lut = {}\n",
    "        for i in range(len(nums)):\n",
    "            if nums[i] in lut:\n",
    "                return [lut[nums[i]],i]\n",
    "            else: lut[target-nums[i]]=i\n",
    "\n",
    "nums = [2,7,11,15]; target = 9\n",
    "print(Solution().twoSum(nums, target))\n"
   ]
  },
  {
   "cell_type": "code",
   "execution_count": 3,
   "id": "0d227886",
   "metadata": {},
   "outputs": [
    {
     "name": "stdout",
     "output_type": "stream",
     "text": [
      "5\n"
     ]
    }
   ],
   "source": [
    "\"\"\"\n",
    "121. Best Time to Buy and Sell Stock\n",
    "\n",
    "You are given an array prices where prices[i] is the price of a given stock on the ith day.\n",
    "\n",
    "You want to maximize your profit by choosing a single day to buy one stock and choosing a different day in the future to sell that stock.\n",
    "\n",
    "Return the maximum profit you can achieve from this transaction. If you cannot achieve any profit, return 0.\n",
    "\n",
    "Example 1:\n",
    "\n",
    "Input: prices = [7,1,5,3,6,4]\n",
    "Output: 5\n",
    "Explanation: Buy on day 2 (price = 1) and sell on day 5 (price = 6), profit = 6-1 = 5.\n",
    "Note that buying on day 2 and selling on day 1 is not allowed because you must buy before you sell.\n",
    "Example 2:\n",
    "\n",
    "Input: prices = [7,6,4,3,1]\n",
    "Output: 0\n",
    "Explanation: In this case, no transactions are done and the max profit = 0.\n",
    "\n",
    "\"\"\"\n",
    "\n",
    "class Solution:\n",
    "    max_p = 0\n",
    "    def maxProfit(self, prices):\n",
    "        left = 0; right = 1; maxP = 0\n",
    "        while right < len(prices):\n",
    "            if prices[left] < prices[right]:\n",
    "                profit = prices[right]-prices[left]\n",
    "                maxP = max(maxP,profit)\n",
    "            else: left = right\n",
    "            right = right + 1\n",
    "        return maxP\n",
    "    \n",
    "prices = [7,1,5,3,6,4]\n",
    "print(Solution().maxProfit(prices))"
   ]
  },
  {
   "cell_type": "code",
   "execution_count": 5,
   "id": "a494238e",
   "metadata": {},
   "outputs": [
    {
     "name": "stdout",
     "output_type": "stream",
     "text": [
      "2\n"
     ]
    }
   ],
   "source": [
    "\"\"\"\n",
    "287. Find the Duplicate Number\n",
    "\n",
    "Given an array of integers nums containing n + 1 integers where each integer is in the range [1, n] inclusive.\n",
    "\n",
    "There is only one repeated number in nums, return this repeated number.\n",
    "\n",
    "You must solve the problem without modifying the array nums and uses only constant extra space.\n",
    "\n",
    " \n",
    "\n",
    "Example 1:\n",
    "\n",
    "Input: nums = [1,3,4,2,2]\n",
    "Output: 2\n",
    "Example 2:\n",
    "\n",
    "Input: nums = [3,1,3,4,2]\n",
    "Output: 3\n",
    "Example 3:\n",
    "\n",
    "Input: nums = [3,3,3,3,3]\n",
    "Output: 3\n",
    "\n",
    "Follow up:\n",
    "\n",
    "How can we prove that at least one duplicate number must exist in nums?\n",
    "Can you solve the problem in linear runtime complexity?\n",
    "\n",
    "\"\"\"\n",
    "\n",
    "class Solution:\n",
    "    def findDuplicate(self, nums):\n",
    "        slow=fast=0\n",
    "        while True:\n",
    "            slow = nums[slow]\n",
    "            fast = nums[nums[fast]]\n",
    "            if slow == fast:\n",
    "                break\n",
    "        slow2=0\n",
    "        while True:\n",
    "            slow = nums[slow]\n",
    "            slow2 = nums[slow2]\n",
    "            if slow == slow2:\n",
    "                return slow\n",
    "            \n",
    "nums = [1,3,4,2,2]\n",
    "print(Solution().findDuplicate(nums))"
   ]
  },
  {
   "cell_type": "code",
   "execution_count": 4,
   "id": "cb3c7e24",
   "metadata": {},
   "outputs": [
    {
     "name": "stdout",
     "output_type": "stream",
     "text": [
      "[24, 12, 8, 6]\n"
     ]
    }
   ],
   "source": [
    "\"\"\"\n",
    "238. Product of Array Except Self\n",
    "\n",
    "Given an integer array nums, return an array answer such that answer[i] is equal to the product \n",
    "of all the elements of nums except nums[i].\n",
    "\n",
    "The product of any prefix or suffix of nums is guaranteed to fit in a 32-bit integer.\n",
    "\n",
    "You must write an algorithm that runs in O(n) time and without using the division operation.\n",
    "\n",
    "Follow up: Can you solve the problem in O(1) extra space complexity? \n",
    "(The output array does not count as extra space for space complexity analysis.)\n",
    "\n",
    "Example 1:\n",
    "\n",
    "Input: nums = [1,2,3,4]\n",
    "Output: [24,12,8,6]\n",
    "Example 2:\n",
    "\n",
    "Input: nums = [-1,1,0,-3,3]\n",
    "Output: [0,0,9,0,0]\n",
    "\n",
    "\"\"\"\n",
    "\n",
    "class Solution:\n",
    "    def productExceptSelf(self, nums):\n",
    "        self.nums = nums\n",
    "        res = [1] * (len(nums))\n",
    "        prefix = 1\n",
    "\n",
    "        for i in range(len(nums)):\n",
    "            res[i] = prefix\n",
    "            prefix = prefix * nums[i]\n",
    "        postfix = 1\n",
    "        for i in range(len(nums)-1,-1,-1):\n",
    "            res[i] = res[i] * postfix\n",
    "            postfix = postfix * nums[i]\n",
    "        return res \n",
    "\n",
    "nums = [1,2,3,4]\n",
    "print(Solution().productExceptSelf(nums))"
   ]
  }
 ],
 "metadata": {
  "kernelspec": {
   "display_name": "Python 3",
   "language": "python",
   "name": "python3"
  },
  "language_info": {
   "codemirror_mode": {
    "name": "ipython",
    "version": 3
   },
   "file_extension": ".py",
   "mimetype": "text/x-python",
   "name": "python",
   "nbconvert_exporter": "python",
   "pygments_lexer": "ipython3",
   "version": "3.8.10"
  }
 },
 "nbformat": 4,
 "nbformat_minor": 5
}
