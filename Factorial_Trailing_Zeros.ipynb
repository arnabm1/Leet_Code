{
 "cells": [
  {
   "cell_type": "code",
   "execution_count": 28,
   "metadata": {},
   "outputs": [
    {
     "name": "stdout",
     "output_type": "stream",
     "text": [
      "390\n"
     ]
    }
   ],
   "source": [
    "\"\"\"\n",
    "172. Factorial Trailing Zeroes\n",
    "\n",
    "Given an integer n, return the number of trailing zeroes in n!.\n",
    "\n",
    "Note that n! = n * (n - 1) * (n - 2) * ... * 3 * 2 * 1.\n",
    "\n",
    "Example 1:\n",
    "\n",
    "Input: n = 3\n",
    "Output: 0\n",
    "Explanation: 3! = 6, no trailing zero.\n",
    "Example 2:\n",
    "\n",
    "Input: n = 5\n",
    "Output: 1\n",
    "Explanation: 5! = 120, one trailing zero.\n",
    "Example 3:\n",
    "\n",
    "Input: n = 0\n",
    "Output: 0\n",
    " \n",
    "Follow up: Could you write a solution that works in logarithmic time complexity?\n",
    "\"\"\"\n",
    "\" O(n) solution \"\n",
    "\n",
    "class Solution:\n",
    "    def trailingZeroes(self, n):\n",
    "        ## O(n) solution ##\n",
    "        # res = 1\n",
    "        # for i in range(n,0,-1):\n",
    "        #     res = i*res\n",
    "        # num_str = str(res)\n",
    "        # trailing_zeros = 0\n",
    "        # for digit in reversed(num_str):\n",
    "        #     if digit == '0':\n",
    "        #         trailing_zeros += 1\n",
    "        #     else: break\n",
    "        # return trailing_zeros\n",
    "        \n",
    "        ## O(log5 N) solution ##\n",
    "        trailing_zeros = 0\n",
    "        i = 5\n",
    "        while n//i:\n",
    "            trailing_zeros += n//i\n",
    "            i *= 5\n",
    "        return trailing_zeros\n",
    "    \n",
    "n = 1574\n",
    "print(Solution().trailingZeroes(n))\n"
   ]
  }
 ],
 "metadata": {
  "kernelspec": {
   "display_name": "Python 3",
   "language": "python",
   "name": "python3"
  },
  "language_info": {
   "codemirror_mode": {
    "name": "ipython",
    "version": 3
   },
   "file_extension": ".py",
   "mimetype": "text/x-python",
   "name": "python",
   "nbconvert_exporter": "python",
   "pygments_lexer": "ipython3",
   "version": "3.8.10"
  }
 },
 "nbformat": 4,
 "nbformat_minor": 2
}
