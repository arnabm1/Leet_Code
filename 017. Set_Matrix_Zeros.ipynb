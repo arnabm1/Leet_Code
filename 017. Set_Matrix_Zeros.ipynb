{
 "cells": [
  {
   "cell_type": "code",
   "execution_count": 4,
   "metadata": {},
   "outputs": [
    {
     "name": "stdout",
     "output_type": "stream",
     "text": [
      "[[1, 0, 1], [0, 0, 0], [1, 0, 1]]\n"
     ]
    }
   ],
   "source": [
    "\"\"\"\n",
    "73. Set Matrix Zeroes\n",
    "\n",
    "Given an m x n integer matrix matrix, if an element is 0, set its entire row and column to 0's.\n",
    "\n",
    "You must do it in place.\n",
    "\n",
    "Example 1:\n",
    "Input: matrix = [[1,1,1],[1,0,1],[1,1,1]]\n",
    "Output: [[1,0,1],[0,0,0],[1,0,1]]\n",
    "\n",
    "Example 2:\n",
    "Input: matrix = [[0,1,2,0],[3,4,5,2],[1,3,1,5]]\n",
    "Output: [[0,0,0,0],[0,4,5,0],[0,3,1,0]]\n",
    "\n",
    "Follow up:\n",
    "\n",
    "A straightforward solution using O(mn) space is probably a bad idea.\n",
    "A simple improvement uses O(m + n) space, but still not the best solution.\n",
    "Could you devise a constant space solution?\n",
    "\n",
    "\"\"\"\n",
    "\n",
    "class Solution:\n",
    "    def setZeroes(self, matrix):\n",
    "        \"\"\"\n",
    "        Do not return anything, modify matrix in-place instead.\n",
    "        \"\"\"\n",
    "        rows, cols = len(matrix), len(matrix[0])\n",
    "        rowZero = False\n",
    "        # O(1) space solution\n",
    "        for r in range(rows): # mark which rows and cols need to be zero\n",
    "            for c in range(cols):\n",
    "                if matrix[r][c] == 0:\n",
    "                    matrix[0][c] = 0\n",
    "                    if r > 0:\n",
    "                        matrix[r][0] = 0\n",
    "                    else:\n",
    "                        rowZero = True\n",
    "        \n",
    "        for r in range(1, rows): # make rows and cols value zero except 1st row and 1st col\n",
    "            for c in range(1, cols):\n",
    "                if matrix[0][c] == 0 or matrix[r][0] == 0:\n",
    "                    matrix[r][c] = 0\n",
    "        \n",
    "        if matrix[0][0] == 0: # make 1st row values zero if rowZero is true\n",
    "            for r in range(rows):\n",
    "                matrix[r][0] = 0\n",
    "        if rowZero: # make 1st cols values zero if rowZero is true\n",
    "            for c in range(cols):\n",
    "                matrix[0][c] = 0\n",
    "        return matrix\n",
    "\n",
    "# matrix = [[0,1,2,0],[3,4,5,2],[1,3,1,5]]\n",
    "matrix = [[1,1,1],[1,0,1],[1,1,1]]\n",
    "print(Solution().setZeroes(matrix))"
   ]
  }
 ],
 "metadata": {
  "kernelspec": {
   "display_name": "Python 3",
   "language": "python",
   "name": "python3"
  },
  "language_info": {
   "codemirror_mode": {
    "name": "ipython",
    "version": 3
   },
   "file_extension": ".py",
   "mimetype": "text/x-python",
   "name": "python",
   "nbconvert_exporter": "python",
   "pygments_lexer": "ipython3",
   "version": "3.8.10"
  }
 },
 "nbformat": 4,
 "nbformat_minor": 2
}
