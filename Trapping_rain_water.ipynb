{
 "cells": [
  {
   "cell_type": "code",
   "execution_count": 1,
   "metadata": {},
   "outputs": [
    {
     "name": "stdout",
     "output_type": "stream",
     "text": [
      "6\n"
     ]
    }
   ],
   "source": [
    "\"\"\"\n",
    "42. Trapping Rain Water\n",
    "\n",
    "Given n non-negative integers representing an elevation map where the width of each bar is 1, \n",
    "compute how much water it can trap after raining.\n",
    "\n",
    "Example 1:\n",
    "Input: height = [0,1,0,2,1,0,1,3,2,1,2,1]\n",
    "Output: 6\n",
    "Explanation: The above elevation map (black section) is represented by array [0,1,0,2,1,0,1,3,2,1,2,1].\n",
    "In this case, 6 units of rain water (blue section) are being trapped.\n",
    "\n",
    "Example 2:\n",
    "Input: height = [4,2,0,3,2,5]\n",
    "Output: 9\n",
    "\n",
    "\"\"\"\n",
    "\n",
    "class Solution:\n",
    "    def trap(self, height):\n",
    "\n",
    "        if not height: return 0\n",
    "\n",
    "        l, r = 0, len(height)-1\n",
    "        maxleft, maxright = height[l], height[r]\n",
    "        res = 0\n",
    "        while l<r:\n",
    "            if maxleft < maxright:\n",
    "                l += 1\n",
    "                maxleft = max(maxleft, height[l])\n",
    "                res += maxleft - height[l]\n",
    "            else:\n",
    "                r -= 1\n",
    "                maxright = max(maxright, height[r])\n",
    "                res += maxright - height[r]\n",
    "        return res\n",
    "    \n",
    "height = [0,1,0,2,1,0,1,3,2,1,2,1]\n",
    "print(Solution().trap(height))"
   ]
  }
 ],
 "metadata": {
  "kernelspec": {
   "display_name": "Python 3",
   "language": "python",
   "name": "python3"
  },
  "language_info": {
   "codemirror_mode": {
    "name": "ipython",
    "version": 3
   },
   "file_extension": ".py",
   "mimetype": "text/x-python",
   "name": "python",
   "nbconvert_exporter": "python",
   "pygments_lexer": "ipython3",
   "version": "3.8.10"
  }
 },
 "nbformat": 4,
 "nbformat_minor": 2
}
