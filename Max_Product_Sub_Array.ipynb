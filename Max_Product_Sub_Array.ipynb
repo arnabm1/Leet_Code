{
 "cells": [
  {
   "cell_type": "code",
   "execution_count": 1,
   "metadata": {},
   "outputs": [
    {
     "name": "stdout",
     "output_type": "stream",
     "text": [
      "6\n"
     ]
    }
   ],
   "source": [
    "\"\"\"\n",
    "152. Maximum Product Subarray\n",
    "\n",
    "Given an integer array nums, find a \n",
    "subarray\n",
    " that has the largest product, and return the product.\n",
    "\n",
    "The test cases are generated so that the answer will fit in a 32-bit integer.\n",
    "\n",
    "Example 1:\n",
    "\n",
    "Input: nums = [2,3,-2,4]\n",
    "Output: 6\n",
    "Explanation: [2,3] has the largest product 6.\n",
    "Example 2:\n",
    "\n",
    "Input: nums = [-2,0,-1]\n",
    "Output: 0\n",
    "Explanation: The result cannot be 2, because [-2,-1] is not a subarray.\n",
    "\n",
    "\"\"\"\n",
    "\n",
    "class Solution:\n",
    "    def maxProduct(self, nums):\n",
    "        res = max(nums)\n",
    "        curMax, curMin = 1,1\n",
    "        for value in nums:\n",
    "            # if value == 0:\n",
    "            #     curMax, curMin = 1, 1\n",
    "            #     continue\n",
    "            temp = curMax * value\n",
    "            curMax = max(curMax * value, curMin * value, value)\n",
    "            curMin = min(temp, curMin * value, value)\n",
    "            res = max(curMax, res)\n",
    "        return res\n",
    "nums = [2,3,-2,4]\n",
    "print(Solution().maxProduct(nums))"
   ]
  }
 ],
 "metadata": {
  "kernelspec": {
   "display_name": "Python 3",
   "language": "python",
   "name": "python3"
  },
  "language_info": {
   "codemirror_mode": {
    "name": "ipython",
    "version": 3
   },
   "file_extension": ".py",
   "mimetype": "text/x-python",
   "name": "python",
   "nbconvert_exporter": "python",
   "pygments_lexer": "ipython3",
   "version": "3.8.10"
  }
 },
 "nbformat": 4,
 "nbformat_minor": 2
}
