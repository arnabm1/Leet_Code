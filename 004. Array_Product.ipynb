{
 "cells": [
  {
   "cell_type": "code",
   "execution_count": 2,
   "id": "cb3c7e24",
   "metadata": {},
   "outputs": [
    {
     "name": "stdout",
     "output_type": "stream",
     "text": [
      "[24, 12, 8, 6]\n"
     ]
    }
   ],
   "source": [
    "\"\"\"\n",
    "238. Product of Array Except Self\n",
    "\n",
    "Given an integer array nums, return an array answer such that answer[i] is equal to the product \n",
    "of all the elements of nums except nums[i].\n",
    "\n",
    "The product of any prefix or suffix of nums is guaranteed to fit in a 32-bit integer.\n",
    "\n",
    "You must write an algorithm that runs in O(n) time and without using the division operation.\n",
    "\n",
    "Follow up: Can you solve the problem in O(1) extra space complexity? \n",
    "(The output array does not count as extra space for space complexity analysis.)\n",
    "\n",
    "Example 1:\n",
    "\n",
    "Input: nums = [1,2,3,4]\n",
    "Output: [24,12,8,6]\n",
    "Example 2:\n",
    "\n",
    "Input: nums = [-1,1,0,-3,3]\n",
    "Output: [0,0,9,0,0]\n",
    "\n",
    "\"\"\"\n",
    "\n",
    "class Solution:\n",
    "    def productExceptSelf(self, nums):\n",
    "        self.nums = nums\n",
    "        res = [1] * (len(nums))\n",
    "        prefix = 1\n",
    "\n",
    "        for i in range(len(nums)):\n",
    "            res[i] = prefix\n",
    "            prefix = prefix * nums[i]\n",
    "        postfix = 1\n",
    "        for i in range(len(nums)-1,-1,-1):\n",
    "            res[i] = res[i] * postfix\n",
    "            postfix = postfix * nums[i]\n",
    "        return res \n",
    "\n",
    "nums = [1,2,3,4]\n",
    "print(Solution().productExceptSelf(nums))"
   ]
  }
 ],
 "metadata": {
  "kernelspec": {
   "display_name": "Python 3",
   "language": "python",
   "name": "python3"
  },
  "language_info": {
   "codemirror_mode": {
    "name": "ipython",
    "version": 3
   },
   "file_extension": ".py",
   "mimetype": "text/x-python",
   "name": "python",
   "nbconvert_exporter": "python",
   "pygments_lexer": "ipython3",
   "version": "3.8.10"
  }
 },
 "nbformat": 4,
 "nbformat_minor": 5
}
